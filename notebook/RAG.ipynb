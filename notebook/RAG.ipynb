{
 "cells": [
  {
   "cell_type": "code",
   "execution_count": 1,
   "id": "884a1f0b",
   "metadata": {},
   "outputs": [],
   "source": [
    "import os \n",
    "from dotenv import load_dotenv \n",
    "load_dotenv()\n",
    "os.environ[\"OPENAI_API_KEY\"] = os.getenv(\"OPENAI_API_KEY\")"
   ]
  },
  {
   "cell_type": "markdown",
   "id": "41a656aa",
   "metadata": {},
   "source": [
    "## **`Data Ingestion`**"
   ]
  },
  {
   "cell_type": "markdown",
   "id": "c4011e15",
   "metadata": {},
   "source": [
    "#### **PDF Text Extraction**"
   ]
  },
  {
   "cell_type": "code",
   "execution_count": 2,
   "id": "d2c606b5",
   "metadata": {},
   "outputs": [],
   "source": [
    "from langchain_community.document_loaders import PyMuPDFLoader\n",
    "import fitz\n",
    "\n",
    "file_path = r\"C:\\Users\\hites\\OneDrive\\Desktop\\LLMops\\data\\human-nutrition-text.pdf\"\n",
    "output_dir = \"./extracted_images\" \n",
    "os.makedirs(output_dir, exist_ok = True)"
   ]
  },
  {
   "cell_type": "code",
   "execution_count": null,
   "id": "59f1fc98",
   "metadata": {},
   "outputs": [],
   "source": [
    "# Fixed image extraction code\n",
    "pdf = fitz.open(file_path)\n",
    "image_metadata = []\n",
    "\n",
    "for page_index in range(len(pdf)):\n",
    "    page = pdf[page_index] \n",
    "    images = page.get_images(full=True)\n",
    "    # print(f\"Page: {page_index + 1} has {len(images)} images\") \n",
    "\n",
    "    for img_index, img in enumerate(images, start=1):\n",
    "        xref = img[0] \n",
    "        base_image = pdf.extract_image(xref) \n",
    "        image_bytes = base_image[\"image\"]\n",
    "        image_ext = base_image[\"ext\"]\n",
    "        \n",
    "        # Save image\n",
    "        image_filename = f\"page{page_index + 1}_img{img_index}.{image_ext}\"\n",
    "        image_path = os.path.join(output_dir, image_filename) \n",
    "        with open(image_path, 'wb') as f:\n",
    "            f.write(image_bytes) \n",
    "        \n",
    "        # Find image location (bounding box) - with error handling\n",
    "        bbox = None\n",
    "        try:\n",
    "            rects = [b for b in page.get_image_bbox(xref)] \n",
    "            bbox = [round(b, 2) for b in rects] if rects else None\n",
    "        except ValueError as e:\n",
    "            print(f\"Warning: Could not get bounding box for image {xref} on page {page_index + 1}: {e}\")\n",
    "            bbox = None\n",
    "\n",
    "        image_metadata.append({\n",
    "            \"page\": page_index + 1, \n",
    "            \"image_path\": image_path, \n",
    "            \"bbox\": bbox\n",
    "        })\n",
    "\n",
    "pdf.close() \n",
    "print(f\"\\nExtracted and saved {len(image_metadata)} images to '{output_dir}'\")\n"
   ]
  },
  {
   "cell_type": "code",
   "execution_count": null,
   "id": "8d7abdde",
   "metadata": {},
   "outputs": [],
   "source": [
    "# Alternative approach using get_image_rects method\n",
    "def extract_images_with_bounds(pdf_path, output_dir):\n",
    "    \"\"\"\n",
    "    Extract images from PDF with better bounding box detection\n",
    "    \"\"\"\n",
    "    pdf = fitz.open(pdf_path)\n",
    "    image_metadata = []\n",
    "    \n",
    "    for page_index in range(len(pdf)):\n",
    "        page = pdf[page_index]\n",
    "        images = page.get_images(full=True)\n",
    "        \n",
    "        for img_index, img in enumerate(images, start=1):\n",
    "            xref = img[0]\n",
    "            base_image = pdf.extract_image(xref)\n",
    "            image_bytes = base_image[\"image\"]\n",
    "            image_ext = base_image[\"ext\"]\n",
    "            \n",
    "            # Save image\n",
    "            image_filename = f\"page{page_index + 1}_img{img_index}.{image_ext}\"\n",
    "            image_path = os.path.join(output_dir, image_filename)\n",
    "            \n",
    "            with open(image_path, 'wb') as f:\n",
    "                f.write(image_bytes)\n",
    "            \n",
    "            # Try multiple methods to get bounding box\n",
    "            bbox = None\n",
    "            \n",
    "            # Method 1: get_image_bbox\n",
    "            try:\n",
    "                rects = [b for b in page.get_image_bbox(xref)]\n",
    "                bbox = [round(b, 2) for b in rects] if rects else None\n",
    "            except ValueError:\n",
    "                # Method 2: get_image_rects (alternative method)\n",
    "                try:\n",
    "                    rects = page.get_image_rects(xref)\n",
    "                    bbox = [round(b, 2) for b in rects] if rects else None\n",
    "                except:\n",
    "                    # Method 3: Search for image rectangles in the page\n",
    "                    try:\n",
    "                        img_rects = page.get_image_rects()\n",
    "                        if img_rects:\n",
    "                            # Find the rectangle that matches our image\n",
    "                            for rect in img_rects:\n",
    "                                if rect[4] == xref:  # xref is the 5th element\n",
    "                                    bbox = [round(b, 2) for b in rect[:4]]\n",
    "                                    break\n",
    "                    except:\n",
    "                        pass\n",
    "            \n",
    "            image_metadata.append({\n",
    "                \"page\": page_index + 1,\n",
    "                \"image_path\": image_path,\n",
    "                \"bbox\": bbox,\n",
    "                \"xref\": xref\n",
    "            })\n",
    "    \n",
    "    pdf.close()\n",
    "    return image_metadata\n",
    "\n",
    "# Test the alternative approach\n",
    "print(\"Testing alternative image extraction method...\")\n",
    "image_metadata_alt = extract_images_with_bounds(file_path, output_dir)\n",
    "print(f\"Extracted {len(image_metadata_alt)} images using alternative method\")\n"
   ]
  },
  {
   "cell_type": "code",
   "execution_count": 3,
   "id": "4c3d5615",
   "metadata": {},
   "outputs": [],
   "source": [
    "loader = PyMuPDFLoader(file_path)\n",
    "documents = loader.load()"
   ]
  },
  {
   "cell_type": "code",
   "execution_count": 43,
   "id": "46417c12",
   "metadata": {},
   "outputs": [
    {
     "data": {
      "text/plain": [
       "Document(metadata={'producer': 'Prince 12.5 (www.princexml.com)', 'creator': 'Pressbooks 5.9.2', 'creationdate': '', 'source': 'C:\\\\Users\\\\hites\\\\OneDrive\\\\Desktop\\\\LLMops\\\\data\\\\human-nutrition-text.pdf', 'file_path': 'C:\\\\Users\\\\hites\\\\OneDrive\\\\Desktop\\\\LLMops\\\\data\\\\human-nutrition-text.pdf', 'total_pages': 1208, 'format': 'PDF 1.7', 'title': 'Human Nutrition: 2020 Edition', 'author': '', 'subject': '', 'keywords': '', 'moddate': '', 'trapped': '', 'modDate': '', 'creationDate': '', 'page': 0}, page_content='Human Nutrition: 2020 Edition')"
      ]
     },
     "execution_count": 43,
     "metadata": {},
     "output_type": "execute_result"
    }
   ],
   "source": [
    "documents[0]"
   ]
  },
  {
   "cell_type": "code",
   "execution_count": 4,
   "id": "9e1f5f14",
   "metadata": {},
   "outputs": [
    {
     "name": "stdout",
     "output_type": "stream",
     "text": [
      "Extracted text from 1208 pages\n",
      "\n"
     ]
    }
   ],
   "source": [
    "print(f\"Extracted text from {len(documents)} pages\\n\")"
   ]
  },
  {
   "cell_type": "code",
   "execution_count": 20,
   "id": "c7d14f8b",
   "metadata": {},
   "outputs": [
    {
     "name": "stdout",
     "output_type": "stream",
     "text": [
      "Page Text Preview:\n",
      " Human Nutrition: 2020 \n",
      "Edition \n",
      "UNIVERSITY OF HAWAI‘I AT MĀNOA \n",
      "FOOD SCIENCE AND HUMAN \n",
      "NUTRITION PROGRAM \n",
      "ALAN TITCHENAL, SKYLAR HARA, \n",
      "NOEMI ARCEO CAACBAY, WILLIAM \n",
      "MEINKE-LAU, YA-YUN YANG, MARIE \n",
      "KAINOA FIALKOWSKI REVILLA, \n",
      "JENNIFER DRAPER, GEMADY \n",
      "LANGFELDER, CHERYL GIBBY, CHYNA \n",
      "NICOLE CHUN, AND ALLISON \n",
      "CALABRESE ...\n",
      "\n"
     ]
    }
   ],
   "source": [
    "print(\"Page Text Preview:\\n\", documents[2].page_content, \"...\\n\")"
   ]
  },
  {
   "cell_type": "markdown",
   "id": "c1563f29",
   "metadata": {},
   "source": [
    "#### **PDF Image Extraction**"
   ]
  },
  {
   "cell_type": "code",
   "execution_count": 39,
   "id": "52a557a0",
   "metadata": {},
   "outputs": [
    {
     "name": "stdout",
     "output_type": "stream",
     "text": [
      "\n",
      "Extracted and saved 253 images to './extracted_images'\n"
     ]
    }
   ],
   "source": [
    "import fitz\n",
    "import os\n",
    "\n",
    "pdf = fitz.open(file_path)\n",
    "image_metadata = []\n",
    "\n",
    "for page_index in range(len(pdf)):\n",
    "    page = pdf[page_index]\n",
    "    images = page.get_images(full=True)\n",
    "\n",
    "    for img_index, img in enumerate(images, start=1):\n",
    "        xref = img[0]\n",
    "        name = img[7]\n",
    "        base_image = pdf.extract_image(xref)\n",
    "        image_bytes = base_image[\"image\"]\n",
    "        image_ext = base_image[\"ext\"]\n",
    "\n",
    "        # Save image\n",
    "        image_filename = f\"page{page_index + 1}_img{img_index}.{image_ext}\"\n",
    "        image_path = os.path.join(output_dir, image_filename)\n",
    "        with open(image_path, \"wb\") as f:\n",
    "            f.write(image_bytes)\n",
    "\n",
    "        # Find bounding box\n",
    "        try:\n",
    "            rect = page.get_image_bbox(name)\n",
    "            bbox = [round(coord, 2) for coord in rect]\n",
    "        except ValueError:\n",
    "            bbox = None  # if image name not found on page\n",
    "\n",
    "        image_metadata.append({\n",
    "            \"page\": page_index + 1,\n",
    "            \"image_path\": image_path,\n",
    "            \"bbox\": bbox\n",
    "        })\n",
    "\n",
    "pdf.close()\n",
    "print(f\"\\nExtracted and saved {len(image_metadata)} images to '{output_dir}'\")"
   ]
  },
  {
   "cell_type": "code",
   "execution_count": 42,
   "id": "b857803b",
   "metadata": {},
   "outputs": [
    {
     "data": {
      "text/plain": [
       "{'page': 26,\n",
       " 'image_path': './extracted_images\\\\page26_img1.jpeg',\n",
       " 'bbox': [56.69, 318.08, 206.69, 543.08]}"
      ]
     },
     "execution_count": 42,
     "metadata": {},
     "output_type": "execute_result"
    }
   ],
   "source": [
    "image_metadata[0]"
   ]
  },
  {
   "cell_type": "code",
   "execution_count": 44,
   "id": "0745724f",
   "metadata": {},
   "outputs": [],
   "source": [
    "for doc in documents:\n",
    "    page_num = doc.metadata.get(\"page\", 0) + 1\n",
    "    page_images = [img for img in image_metadata if img[\"page\"] == page_num] \n",
    "    doc.metadata[\"images\"] = page_images"
   ]
  },
  {
   "cell_type": "code",
   "execution_count": 50,
   "id": "c3510669",
   "metadata": {},
   "outputs": [
    {
     "name": "stdout",
     "output_type": "stream",
     "text": [
      "page_content='Digestive \n",
      "system \n",
      "without \n",
      "labels by \n",
      "Mariana \n",
      "Ruiz / Public \n",
      "Domain \n",
      "Knowing how to maintain the balance of friendly bacteria in your \n",
      "intestines through proper diet can promote overall health. Recent \n",
      "scientific studies have shown that probiotic supplements positively \n",
      "affect intestinal microbial flora, which in turn positively affect \n",
      "immune system function. As good nutrition is known to influence \n",
      "immunity, there is great interest in using probiotic foods and other \n",
      "immune-system-friendly foods as a way to prevent illness. In this \n",
      "chapter we will explore not only immune system function, but also \n",
      "Introduction  |  59' metadata={'producer': 'Prince 12.5 (www.princexml.com)', 'creator': 'Pressbooks 5.9.2', 'creationdate': '', 'source': 'C:\\\\Users\\\\hites\\\\OneDrive\\\\Desktop\\\\LLMops\\\\data\\\\human-nutrition-text.pdf', 'file_path': 'C:\\\\Users\\\\hites\\\\OneDrive\\\\Desktop\\\\LLMops\\\\data\\\\human-nutrition-text.pdf', 'total_pages': 1208, 'format': 'PDF 1.7', 'title': 'Human Nutrition: 2020 Edition', 'author': '', 'subject': '', 'keywords': '', 'moddate': '', 'trapped': '', 'modDate': '', 'creationDate': '', 'page': 100, 'images': [{'page': 101, 'image_path': './extracted_images\\\\page101_img1.jpeg', 'bbox': [56.69, 56.69, 282.78, 400.7]}]}\n"
     ]
    }
   ],
   "source": [
    "print(documents[100])"
   ]
  },
  {
   "cell_type": "markdown",
   "id": "be88a81b",
   "metadata": {},
   "source": [
    "## **`Chunking`**"
   ]
  },
  {
   "cell_type": "code",
   "execution_count": 56,
   "id": "efd92687",
   "metadata": {},
   "outputs": [],
   "source": [
    "from langchain_text_splitters.character import RecursiveCharacterTextSplitter"
   ]
  },
  {
   "cell_type": "code",
   "execution_count": 73,
   "id": "a3c8b3b5",
   "metadata": {},
   "outputs": [],
   "source": [
    "text_splitter = RecursiveCharacterTextSplitter(chunk_size = 300, chunk_overlap = 50)"
   ]
  },
  {
   "cell_type": "code",
   "execution_count": 74,
   "id": "5c5370d5",
   "metadata": {},
   "outputs": [],
   "source": [
    "text_chunks = text_splitter.split_documents(documents)"
   ]
  },
  {
   "cell_type": "markdown",
   "id": "c31c021f",
   "metadata": {},
   "source": [
    "### **VectorDB**"
   ]
  },
  {
   "cell_type": "code",
   "execution_count": 75,
   "id": "174cc4a9",
   "metadata": {},
   "outputs": [],
   "source": [
    "from langchain_openai import OpenAIEmbeddings \n",
    "from langchain_community.vectorstores import FAISS"
   ]
  },
  {
   "cell_type": "code",
   "execution_count": 76,
   "id": "1b43caf7",
   "metadata": {},
   "outputs": [],
   "source": [
    "embeddings = OpenAIEmbeddings(model = \"text-embedding-ada-002\")"
   ]
  },
  {
   "cell_type": "code",
   "execution_count": 77,
   "id": "09cfb9b8",
   "metadata": {},
   "outputs": [],
   "source": [
    "vectorstore = FAISS.from_documents(text_chunks, embeddings)"
   ]
  },
  {
   "cell_type": "code",
   "execution_count": 78,
   "id": "f9ffc472",
   "metadata": {},
   "outputs": [
    {
     "data": {
      "text/plain": [
       "<langchain_community.vectorstores.faiss.FAISS at 0x1b684f5d1b0>"
      ]
     },
     "execution_count": 78,
     "metadata": {},
     "output_type": "execute_result"
    }
   ],
   "source": [
    "vectorstore"
   ]
  },
  {
   "cell_type": "markdown",
   "id": "86c0f246",
   "metadata": {},
   "source": [
    "### **`Retrieval`**"
   ]
  },
  {
   "cell_type": "code",
   "execution_count": 92,
   "id": "6fc05ed2",
   "metadata": {},
   "outputs": [
    {
     "name": "stdout",
     "output_type": "stream",
     "text": [
      "Document 1: \n",
      "If alcohol is consumed, it should be consumed in moderation—up \n",
      "to one drink per day for women and up to two drinks per day for \n",
      "men—and only by adults of legal drinking age. \n",
      "Evidence-Based Physical Activity \n",
      "Recommendations \n",
      "The other part of the energy balance equation is physical activity.\n",
      "--------------------------------------------------\n",
      "Document 2: \n",
      "the Dietary Guidelines define moderate alcohol intake as no more \n",
      "than one drink per day for women and no more than two drinks per \n",
      "day for men.4 Although drunkenness has pervaded many cultures, \n",
      "drinking in moderation has long been a mantra of multiple cultures \n",
      "with access to alcohol.\n",
      "--------------------------------------------------\n",
      "Document 3: \n",
      "• Amount of alcohol consumed \n",
      "• Consumption rate \n",
      "• Consumption before or after a meal (food in the stomach slows \n",
      "absorption) \n",
      "434  |  Introduction\n",
      "--------------------------------------------------\n",
      "Document 4: \n",
      "If alcohol is consumed, it should be consumed in moderation—up \n",
      "to one drink per day for women and up to two drinks per day for \n",
      "men—and only by adults of legal drinking age4. \n",
      "High consumptions of certain foods, such as those high in\n",
      "--------------------------------------------------\n"
     ]
    }
   ],
   "source": [
    "query = \"What is Alcohol and how much to consume ?\"\n",
    "docs = vectorstore.similarity_search(query, k = 4)\n",
    "\n",
    "retriever = vectorstore.as_retriever()\n",
    "\n",
    "# Display results \n",
    "for i, doc in enumerate(docs):\n",
    "    print(f\"Document {i + 1}: \")\n",
    "    print(doc.page_content)\n",
    "    print(\"-\"*50)"
   ]
  },
  {
   "cell_type": "markdown",
   "id": "e20a25ac",
   "metadata": {},
   "source": [
    "### **`Prompt`**"
   ]
  },
  {
   "cell_type": "code",
   "execution_count": 106,
   "id": "4d4984e1",
   "metadata": {},
   "outputs": [],
   "source": [
    "from langchain_core.prompts import ChatPromptTemplate\n",
    "\n",
    "cot_template = ChatPromptTemplate.from_messages([\n",
    "    (\"system\", \"\"\"You are an analytical RAG assistant that uses step-by-step reasoning.\n",
    "\n",
    "## Response Process:\n",
    "1. **Analyze**: Read the question and identify what information is needed\n",
    "2. **Search**: Look through the context for relevant information\n",
    "3. **Verify**: Confirm the information directly addresses the question\n",
    "4. **Respond**: Provide the answer or state if information is unavailable\n",
    "\n",
    "## Answer Structure:\n",
    "When answering, briefly show your reasoning:\n",
    "- \"Based on the context, which states [relevant excerpt]...\"\n",
    "- \"The context mentions that [answer]...\"\n",
    "- \"According to the provided information, [answer]...\"\n",
    "\n",
    "When unable to answer:\n",
    "- \"I searched the context for information about [topic], but it doesn't contain this information.\"\n",
    "\n",
    "## Guidelines:\n",
    "- Think step-by-step but keep reasoning concise\n",
    "- Always ground your answer in specific context\n",
    "- Make your reasoning transparent to the user\"\"\"),\n",
    "\n",
    "    (\"system\", \"\"\"## Available Context:\n",
    "{context}\n",
    "\n",
    "Use the above context to answer the question. Show brief reasoning to build trust in your answer.\"\"\"),\n",
    "\n",
    "    (\"human\", \"{question}\")\n",
    "])"
   ]
  },
  {
   "cell_type": "code",
   "execution_count": 107,
   "id": "a6cb26bd",
   "metadata": {},
   "outputs": [],
   "source": [
    "prompt = template.format(context = \"Human Nutrition\", question = \"What is Alcohol, How much alcohol human's should consume ?\")"
   ]
  },
  {
   "cell_type": "markdown",
   "id": "c18c9c89",
   "metadata": {},
   "source": [
    "#### **`Parser`**"
   ]
  },
  {
   "cell_type": "code",
   "execution_count": 108,
   "id": "933f90b8",
   "metadata": {},
   "outputs": [],
   "source": [
    "from langchain_core.output_parsers.string import StrOutputParser"
   ]
  },
  {
   "cell_type": "code",
   "execution_count": 109,
   "id": "4a7179f2",
   "metadata": {},
   "outputs": [],
   "source": [
    "output_parser = StrOutputParser()"
   ]
  },
  {
   "cell_type": "markdown",
   "id": "384f9ae6",
   "metadata": {},
   "source": [
    "### **`RAG Chain`**"
   ]
  },
  {
   "cell_type": "code",
   "execution_count": 110,
   "id": "2ad7d268",
   "metadata": {},
   "outputs": [],
   "source": [
    "from langchain_openai import ChatOpenAI\n",
    "\n",
    "\n",
    "llm = ChatOpenAI(model = \"gpt-4o-mini\")"
   ]
  },
  {
   "cell_type": "code",
   "execution_count": 113,
   "id": "f465d411",
   "metadata": {},
   "outputs": [],
   "source": [
    "from langchain_core.runnables import RunnablePassthrough\n",
    "\n",
    "\n",
    "rag_chain = (\n",
    "    {\"context\": retriever, \"question\": RunnablePassthrough()} | cot_template | llm | output_parser\n",
    "\n",
    ")"
   ]
  },
  {
   "cell_type": "code",
   "execution_count": 115,
   "id": "c1318f88",
   "metadata": {},
   "outputs": [
    {
     "name": "stdout",
     "output_type": "stream",
     "text": [
      "Based on the context, protein is described as an essential component of the body that plays important roles, including various physiological functions. The information mentions that understanding how to calculate the recommended protein intake is crucial for maintaining health.\n",
      "\n",
      "The context provides a specific formula for calculating an individual's recommended daily protein intake: \n",
      "\n",
      "\\[ \\text{(Weight in lbs. ÷ 2.2 lb/kg) × 0.8 g/kg} \\]\n",
      "\n",
      "This means that to determine your daily protein needs, you divide your weight in pounds by 2.2 to convert to kilograms, then multiply that by 0.8 grams of protein per kilogram.\n",
      "\n",
      "Additionally, it is noted that if a person is overweight, the calculation may overestimate the amount of protein they actually need.\n",
      "\n",
      "Thus, the answer is:\n",
      "1. Protein is a vital nutrient that serves numerous roles in the body.\n",
      "2. An individual's recommended protein intake can be calculated using the equation mentioned above.\n"
     ]
    }
   ],
   "source": [
    "print(rag_chain.invoke(\"What is Protein, How much a individual should consume protein in a day ?\"))"
   ]
  },
  {
   "cell_type": "code",
   "execution_count": null,
   "id": "e29b96b7",
   "metadata": {},
   "outputs": [],
   "source": []
  }
 ],
 "metadata": {
  "kernelspec": {
   "display_name": ".venv",
   "language": "python",
   "name": "python3"
  },
  "language_info": {
   "codemirror_mode": {
    "name": "ipython",
    "version": 3
   },
   "file_extension": ".py",
   "mimetype": "text/x-python",
   "name": "python",
   "nbconvert_exporter": "python",
   "pygments_lexer": "ipython3",
   "version": "3.10.11"
  }
 },
 "nbformat": 4,
 "nbformat_minor": 5
}
